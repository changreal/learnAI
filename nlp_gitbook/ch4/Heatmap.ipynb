{
 "cells": [
  {
   "cell_type": "code",
   "execution_count": 1,
   "metadata": {},
   "outputs": [
    {
     "name": "stderr",
     "output_type": "stream",
     "text": [
      "E:\\envs\\anaconda3\\envs\\tfenv\\lib\\site-packages\\ipykernel_launcher.py:15: FutureWarning: using a dict on a Series for aggregation\n",
      "is deprecated and will be removed in a future version\n",
      "  from ipykernel import kernelapp as app\n"
     ]
    }
   ],
   "source": [
    "import pandas as pd\n",
    "import numpy as np\n",
    "from hiveplot import HivePlot\n",
    "import matplotlib.pyplot as plt \n",
    "%matplotlib inline\n",
    "import json\n",
    "from urllib.request import urlopen, quote\n",
    "import requests,csv\n",
    "import pandas as pd #导入这些库后边都要用到\n",
    "\n",
    "dir = \"./\"\n",
    "columns = ['std_id','sex','year','colloge','city']\n",
    "df = pd.read_csv(dir + \"nd_student_info.csv\",sep='\\t',names=columns)\n",
    "#分组\n",
    "cities_stat=df.groupby(by=['city'])['city'].agg({\"count\":np.size}) \n",
    "#排序\n",
    "cities_stat=cities_stat.reset_index().sort_values(by=[\"count\"],ascending=False)  "
   ]
  },
  {
   "cell_type": "code",
   "execution_count": 2,
   "metadata": {},
   "outputs": [
    {
     "data": {
      "text/plain": [
       "893"
      ]
     },
     "execution_count": 2,
     "metadata": {},
     "output_type": "execute_result"
    }
   ],
   "source": [
    "len(cities_stat)"
   ]
  },
  {
   "cell_type": "code",
   "execution_count": 3,
   "metadata": {},
   "outputs": [],
   "source": [
    "#经纬度转换参考https://www.jianshu.com/p/773ff5f08a2c\n",
    "\n",
    "def getlnglat(address):\n",
    "    url = 'http://api.map.baidu.com/geocoder/v2/'\n",
    "    output = 'json'\n",
    "    ak = 'sqGDDvCDEZPSz24bt4b0BpKLnMk1dv6M'\n",
    "    add = quote(address) #由于本文城市变量为中文，为防止乱码，先用quote进行编码\n",
    "    uri = url + '?' + 'address=' + add  + '&output=' + output + '&ak=' + ak\n",
    "    req = urlopen(uri)\n",
    "    res = req.read().decode() #将其他编码的字符串解码成unicode\n",
    "    temp = json.loads(res)  #对json数据进行解析\n",
    "    return temp"
   ]
  },
  {
   "cell_type": "code",
   "execution_count": null,
   "metadata": {},
   "outputs": [
    {
     "name": "stdout",
     "output_type": "stream",
     "text": [
      "116.4133836971231\n",
      "39.910924547299565\n",
      "{'city': '北京', 'lng': 116.4133836971231, 'lat': 39.910924547299565, 'count': 840}\n",
      "104.08153351042463\n",
      "30.655821878416408\n",
      "{'city': '成都', 'lng': 104.08153351042463, 'lat': 30.655821878416408, 'count': 291}\n",
      "106.55843415537664\n",
      "29.568996245338923\n",
      "{'city': '重庆', 'lng': 106.55843415537664, 'lat': 29.568996245338923, 'count': 261}\n",
      "102.85244836500482\n",
      "24.873998150044006\n",
      "{'city': '昆明', 'lng': 102.85244836500482, 'lat': 24.873998150044006, 'count': 238}\n",
      "119.16837791142822\n",
      "36.71265155126753\n",
      "{'city': '潍坊', 'lng': 119.16837791142822, 'lat': 36.71265155126753, 'count': 214}\n",
      "117.12639941261048\n",
      "36.65655420178723\n",
      "{'city': '济南', 'lng': 117.12639941261048, 'lat': 36.65655420178723, 'count': 212}\n",
      "117.21081309155257\n",
      "39.143929903310074\n",
      "{'city': '天津', 'lng': 117.21081309155257, 'lat': 39.143929903310074, 'count': 211}\n",
      "125.15537330312809\n",
      "42.933308420624584\n",
      "{'city': '西安', 'lng': 125.15537330312809, 'lat': 42.933308420624584, 'count': 193}\n",
      "87.62443993536046\n",
      "43.830763204290484\n",
      "{'city': '乌鲁木齐', 'lng': 87.62443993536046, 'lat': 43.830763204290484, 'count': 187}\n",
      "118.06145253489896\n",
      "36.81908568332188\n",
      "{'city': '淄博', 'lng': 118.06145253489896, 'lat': 36.81908568332188, 'count': 175}\n",
      "113.63141920733915\n",
      "34.75343885045448\n",
      "{'city': '郑州', 'lng': 113.63141920733915, 'lat': 34.75343885045448, 'count': 174}\n"
     ]
    }
   ],
   "source": [
    "df_result = pd.DataFrame(columns=('city','lng','lat','count'))\n",
    "for indexs in cities_stat.index:\n",
    "    b = cities_stat.loc[indexs].values[0].strip() #将第一列city读取出来并清除不需要字符\n",
    "    c= cities_stat.loc[indexs].values[1]  #将第二列price读取出来并清除不需要字符\n",
    "    try:\n",
    "        lng = getlnglat(b)['result']['location']['lng'] #采用构造的函数来获取经度\n",
    "        lat = getlnglat(b)['result']['location']['lat'] #获取纬度\n",
    "        print(lng)\n",
    "        print(lat)\n",
    "        dict = {'city':b,'lng':lng,'lat':lat,'count':c}\n",
    "        print(dict)\n",
    "        df_result.loc[df_result.shape[0]+1] = dict\n",
    "    except:  \n",
    "        continue  \n",
    "df_result.to_csv(\"heat_map.csv\",index=False,encoding='utf-8')"
   ]
  },
  {
   "cell_type": "code",
   "execution_count": null,
   "metadata": {},
   "outputs": [],
   "source": [
    "#打开保存的带有经纬度的数据\n",
    "cities = pd.read_csv(dir + \"heat_map.csv\",sep=',')"
   ]
  },
  {
   "cell_type": "code",
   "execution_count": 4,
   "metadata": {},
   "outputs": [
    {
     "data": {
      "text/html": [
       "<div>\n",
       "<style>\n",
       "    .dataframe thead tr:only-child th {\n",
       "        text-align: right;\n",
       "    }\n",
       "\n",
       "    .dataframe thead th {\n",
       "        text-align: left;\n",
       "    }\n",
       "\n",
       "    .dataframe tbody tr th {\n",
       "        vertical-align: top;\n",
       "    }\n",
       "</style>\n",
       "<table border=\"1\" class=\"dataframe\">\n",
       "  <thead>\n",
       "    <tr style=\"text-align: right;\">\n",
       "      <th></th>\n",
       "      <th>city</th>\n",
       "      <th>lng</th>\n",
       "      <th>lat</th>\n",
       "      <th>count</th>\n",
       "    </tr>\n",
       "  </thead>\n",
       "  <tbody>\n",
       "    <tr>\n",
       "      <th>0</th>\n",
       "      <td>北京</td>\n",
       "      <td>116.395645</td>\n",
       "      <td>39.929986</td>\n",
       "      <td>840</td>\n",
       "    </tr>\n",
       "    <tr>\n",
       "      <th>1</th>\n",
       "      <td>成都</td>\n",
       "      <td>104.067923</td>\n",
       "      <td>30.679943</td>\n",
       "      <td>291</td>\n",
       "    </tr>\n",
       "    <tr>\n",
       "      <th>2</th>\n",
       "      <td>重庆</td>\n",
       "      <td>106.530635</td>\n",
       "      <td>29.544606</td>\n",
       "      <td>261</td>\n",
       "    </tr>\n",
       "    <tr>\n",
       "      <th>3</th>\n",
       "      <td>昆明</td>\n",
       "      <td>102.714601</td>\n",
       "      <td>25.049153</td>\n",
       "      <td>238</td>\n",
       "    </tr>\n",
       "    <tr>\n",
       "      <th>4</th>\n",
       "      <td>潍坊</td>\n",
       "      <td>119.142634</td>\n",
       "      <td>36.716115</td>\n",
       "      <td>214</td>\n",
       "    </tr>\n",
       "  </tbody>\n",
       "</table>\n",
       "</div>"
      ],
      "text/plain": [
       "  city         lng        lat  count\n",
       "0   北京  116.395645  39.929986    840\n",
       "1   成都  104.067923  30.679943    291\n",
       "2   重庆  106.530635  29.544606    261\n",
       "3   昆明  102.714601  25.049153    238\n",
       "4   潍坊  119.142634  36.716115    214"
      ]
     },
     "execution_count": 4,
     "metadata": {},
     "output_type": "execute_result"
    }
   ],
   "source": [
    "cities.head()"
   ]
  },
  {
   "cell_type": "code",
   "execution_count": 8,
   "metadata": {
    "collapsed": true
   },
   "outputs": [],
   "source": [
    "import matplotlib.pyplot as plt\n",
    "from mpl_toolkits.basemap import Basemap\n",
    "import numpy as np\n",
    "import pandas as pd\n",
    "import seaborn as sns\n",
    "import folium\n",
    "import webbrowser\n",
    "from folium.plugins import HeatMap"
   ]
  },
  {
   "cell_type": "code",
   "execution_count": 9,
   "metadata": {},
   "outputs": [
    {
     "data": {
      "text/plain": [
       "True"
      ]
     },
     "execution_count": 9,
     "metadata": {},
     "output_type": "execute_result"
    }
   ],
   "source": [
    "#打开保存的带有经纬度的数据\n",
    "cities = pd.read_csv(dir + \"heat_map.csv\",sep=',')\n",
    "num = len(cities)-1\n",
    "lat = np.array(cities[\"lat\"][0:num])                        # 获取维度之维度值\n",
    "lon = np.array(cities[\"lng\"][0:num])                        # 获取经度值\n",
    "pop = np.array(cities[\"count\"][0:num],dtype=float)    # 获取人口数，转化为numpy浮点型\n",
    "data1 = [[lat[i],lon[i],pop[i]] for i in range(num)]    #将数据制作成[lats,lons,weights]的形式\n",
    "map_osm = folium.Map(location=[35,110],zoom_start=5)    #绘制Map，开始缩放程度是5倍\n",
    "HeatMap(data1).add_to(map_osm)  # 将热力图添加到前面建立的map里\n",
    "\n",
    "file_path = dir + \"heatmap.html\"\n",
    "map_osm.save(file_path)     # 保存为html文件\n",
    "\n",
    "webbrowser.open(file_path)  # 默认浏览器打开"
   ]
  },
  {
   "cell_type": "code",
   "execution_count": null,
   "metadata": {
    "collapsed": true
   },
   "outputs": [],
   "source": []
  }
 ],
 "metadata": {
  "kernelspec": {
   "display_name": "tf for Deeplearning",
   "language": "python",
   "name": "tf-cpu"
  },
  "language_info": {
   "codemirror_mode": {
    "name": "ipython",
    "version": 3
   },
   "file_extension": ".py",
   "mimetype": "text/x-python",
   "name": "python",
   "nbconvert_exporter": "python",
   "pygments_lexer": "ipython3",
   "version": "3.6.8"
  }
 },
 "nbformat": 4,
 "nbformat_minor": 2
}
